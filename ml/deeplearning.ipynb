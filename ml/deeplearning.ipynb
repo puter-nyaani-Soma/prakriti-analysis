{
 "cells": [
  {
   "cell_type": "code",
   "execution_count": 2,
   "metadata": {},
   "outputs": [
    {
     "name": "stderr",
     "output_type": "stream",
     "text": [
      "C:\\Users\\SOMA\\AppData\\Roaming\\Python\\Python311\\site-packages\\numpy\\_distributor_init.py:30: UserWarning: loaded more than 1 DLL from .libs:\n",
      "C:\\Users\\SOMA\\AppData\\Roaming\\Python\\Python311\\site-packages\\numpy\\.libs\\libopenblas.FB5AE2TYXYH2IJRDKGDGQ3XBKLKTF43H.gfortran-win_amd64.dll\n",
      "C:\\Users\\SOMA\\AppData\\Roaming\\Python\\Python311\\site-packages\\numpy\\.libs\\libopenblas64__v0.3.23-gcc_10_3_0.dll\n",
      "  warnings.warn(\"loaded more than 1 DLL from .libs:\"\n"
     ]
    }
   ],
   "source": [
    "import tensorflow as tf\n",
    "from tensorflow import keras\n",
    "import pandas as pd\n",
    "import numpy as np\n",
    "from sklearn.model_selection import train_test_split"
   ]
  },
  {
   "cell_type": "code",
   "execution_count": 3,
   "metadata": {},
   "outputs": [],
   "source": [
    "dataset = pd.read_csv(\"bodyfind.csv\")\n",
    "X=dataset.iloc[:,:-1].values\n",
    "Y=dataset.iloc[:,20].values\n",
    "X_train, X_test, y_train, y_test = train_test_split(X, Y, test_size = 0.2, random_state = 42)\n",
    "X_train_flattened = X_train.reshape(len(X_train),20)\n",
    "X_test_flattened = X_test.reshape(len(X_test),20)"
   ]
  },
  {
   "cell_type": "code",
   "execution_count": 10,
   "metadata": {},
   "outputs": [
    {
     "name": "stdout",
     "output_type": "stream",
     "text": [
      "Epoch 1/11\n",
      "30/30 [==============================] - 2s 3ms/step - loss: 1.5651 - accuracy: 0.4604\n",
      "Epoch 2/11\n",
      "30/30 [==============================] - 0s 3ms/step - loss: 1.1284 - accuracy: 0.5615\n",
      "Epoch 3/11\n",
      "30/30 [==============================] - 0s 3ms/step - loss: 0.7790 - accuracy: 0.6823\n",
      "Epoch 4/11\n",
      "30/30 [==============================] - 0s 3ms/step - loss: 0.5962 - accuracy: 0.7604\n",
      "Epoch 5/11\n",
      "30/30 [==============================] - 0s 3ms/step - loss: 0.3474 - accuracy: 0.8573\n",
      "Epoch 6/11\n",
      "30/30 [==============================] - 0s 3ms/step - loss: 0.3202 - accuracy: 0.8813\n",
      "Epoch 7/11\n",
      "30/30 [==============================] - 0s 3ms/step - loss: 0.2300 - accuracy: 0.9052\n",
      "Epoch 8/11\n",
      "30/30 [==============================] - 0s 3ms/step - loss: 0.1574 - accuracy: 0.9417\n",
      "Epoch 9/11\n",
      "30/30 [==============================] - 0s 3ms/step - loss: 0.1302 - accuracy: 0.9510\n",
      "Epoch 10/11\n",
      "30/30 [==============================] - 0s 4ms/step - loss: 0.1295 - accuracy: 0.9583\n",
      "Epoch 11/11\n",
      "30/30 [==============================] - 0s 3ms/step - loss: 0.1581 - accuracy: 0.9458\n"
     ]
    },
    {
     "data": {
      "text/plain": [
       "<keras.callbacks.History at 0x1a294657d10>"
      ]
     },
     "execution_count": 10,
     "metadata": {},
     "output_type": "execute_result"
    }
   ],
   "source": [
    "model = keras.Sequential([\n",
    "    \n",
    "    keras.layers.Dense(19,input_shape=(20,),activation='relu'),\n",
    "    keras.layers.Dense(300,activation='relu'),\n",
    "    keras.layers.Dense(250,activation='relu'),\n",
    "    keras.layers.Dense(200,activation='relu'),\n",
    "    keras.layers.Dense(150,activation='relu'),\n",
    "    keras.layers.Dense(100,activation='relu'),\n",
    "    keras.layers.Dense(50,activation='relu'),\n",
    "    keras.layers.Dense(45,activation='relu'),\n",
    "    keras.layers.Dense(30,activation='relu'),\n",
    "    keras.layers.Dense(20,activation='relu'),\n",
    "    keras.layers.Dense(15,activation='relu'),\n",
    "    keras.layers.Dense(6,activation='sigmoid')\n",
    "   \n",
    "    \n",
    "])\n",
    "model.compile(\n",
    "    optimizer='adam',\n",
    "    loss='sparse_categorical_crossentropy',\n",
    "    metrics=['accuracy']\n",
    ")\n",
    "model.fit(X_train_flattened,y_train,epochs=11)"
   ]
  },
  {
   "cell_type": "code",
   "execution_count": 11,
   "metadata": {},
   "outputs": [
    {
     "name": "stdout",
     "output_type": "stream",
     "text": [
      "8/8 [==============================] - 0s 2ms/step\n"
     ]
    },
    {
     "data": {
      "text/plain": [
       "Text(95.72222222222221, 0.5, 'Actual')"
      ]
     },
     "execution_count": 11,
     "metadata": {},
     "output_type": "execute_result"
    },
    {
     "data": {
      "image/png": "[encoded data removed]",
      "text/plain": [
       "<Figure size 1000x1000 with 2 Axes>"
      ]
     },
     "metadata": {},
     "output_type": "display_data"
    }
   ],
   "source": [
    "y_predict = model.predict(X_test_flattened)\n",
    "y_predict_labels = [np.argmax(i) for i in y_predict]\n",
    "cm = tf.math.confusion_matrix(labels=y_test,predictions=y_predict_labels)\n",
    "import seaborn as sns\n",
    "import matplotlib.pyplot as plt\n",
    "plt.figure(figsize=(10,10))\n",
    "sns.heatmap(cm,annot=True,fmt='d')\n",
    "plt.xlabel(\"Predicted\")\n",
    "plt.ylabel(\"Actual\")"
   ]
  },
  {
   "cell_type": "code",
   "execution_count": 6,
   "metadata": {},
   "outputs": [],
   "source": [
    "# model_json = model.to_json()\n",
    "\n",
    "# # Save the model JSON to a file\n",
    "# model_path = 'D:\\prakriti-analysis\\ml\\model.json'\n",
    "# with open(model_path, 'w') as json_file:\n",
    "#     json_file.write(model_json)\n",
    "\n",
    "# print(\"Model saved as JSON file: {model_path}\")\n"
   ]
  },
  {
   "cell_type": "code",
   "execution_count": 12,
   "metadata": {},
   "outputs": [
    {
     "name": "stderr",
     "output_type": "stream",
     "text": [
      "WARNING:absl:Found untraced functions such as _update_step_xla while saving (showing 1 of 1). These functions will not be directly callable after loading.\n"
     ]
    },
    {
     "name": "stdout",
     "output_type": "stream",
     "text": [
      "INFO:tensorflow:Assets written to: prakriti-model\\assets\n"
     ]
    },
    {
     "name": "stderr",
     "output_type": "stream",
     "text": [
      "INFO:tensorflow:Assets written to: prakriti-model\\assets\n"
     ]
    }
   ],
   "source": [
    "model.save('prakriti-model')"
   ]
  },
  {
   "cell_type": "code",
   "execution_count": 15,
   "metadata": {},
   "outputs": [
    {
     "name": "stdout",
     "output_type": "stream",
     "text": [
      "[1 1 0 1 1 0 2 0 0 0 2 0 0 0 1 1 0 0 1 0]\n",
      "0\n",
      "[1 1 0 1 1 0 2 0 0 0 2 0 0 0 1 1 0 0 1 0]\n"
     ]
    }
   ],
   "source": [
    "print(X_train[0])\n",
    "\n",
    "print(y_train[0])\n",
    "print(X_train_flattened[0])"
   ]
  }
 ],
 "metadata": {
  "kernelspec": {
   "display_name": "Python 3",
   "language": "python",
   "name": "python3"
  },
  "language_info": {
   "codemirror_mode": {
    "name": "ipython",
    "version": 3
   },
   "file_extension": ".py",
   "mimetype": "text/x-python",
   "name": "python",
   "nbconvert_exporter": "python",
   "pygments_lexer": "ipython3",
   "version": "3.11.4"
  },
  "orig_nbformat": 4
 },
 "nbformat": 4,
 "nbformat_minor": 2
}
