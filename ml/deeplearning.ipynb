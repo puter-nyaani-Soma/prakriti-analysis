{
 "cells": [
  {
   "cell_type": "code",
   "execution_count": 3,
   "metadata": {},
   "outputs": [],
   "source": [
    "import tensorflow as tf\n",
    "from tensorflow import keras\n",
    "import pandas as pd\n",
    "import numpy as np\n",
    "from sklearn.model_selection import train_test_split"
   ]
  },
  {
   "cell_type": "code",
   "execution_count": 4,
   "metadata": {},
   "outputs": [],
   "source": [
    "dataset = pd.read_csv(\"bodyfind.csv\")\n",
    "X=dataset.iloc[:,:-1].values\n",
    "Y=dataset.iloc[:,20].values\n",
    "X_train, X_test, y_train, y_test = train_test_split(X, Y, test_size = 0.2, random_state = 42)\n",
    "X_train_flattened = X_train.reshape(len(X_train),20)\n",
    "X_test_flattened = X_test.reshape(len(X_test),20)"
   ]
  },
  {
   "cell_type": "code",
   "execution_count": 5,
   "metadata": {},
   "outputs": [
    {
     "name": "stdout",
     "output_type": "stream",
     "text": [
      "Epoch 1/11\n",
      "30/30 [==============================] - 4s 6ms/step - loss: 1.5330 - accuracy: 0.5177\n",
      "Epoch 2/11\n",
      "30/30 [==============================] - 0s 5ms/step - loss: 1.2464 - accuracy: 0.5198\n",
      "Epoch 3/11\n",
      "30/30 [==============================] - 0s 6ms/step - loss: 0.8476 - accuracy: 0.5667\n",
      "Epoch 4/11\n",
      "30/30 [==============================] - 0s 5ms/step - loss: 0.4299 - accuracy: 0.8490\n",
      "Epoch 5/11\n",
      "30/30 [==============================] - 0s 5ms/step - loss: 0.3244 - accuracy: 0.8885\n",
      "Epoch 6/11\n",
      "30/30 [==============================] - 0s 7ms/step - loss: 0.1836 - accuracy: 0.9073\n",
      "Epoch 7/11\n",
      "30/30 [==============================] - 0s 4ms/step - loss: 0.1190 - accuracy: 0.9552\n",
      "Epoch 8/11\n",
      "30/30 [==============================] - 0s 5ms/step - loss: 0.1580 - accuracy: 0.9438\n",
      "Epoch 9/11\n",
      "30/30 [==============================] - 0s 5ms/step - loss: 0.0391 - accuracy: 0.9937\n",
      "Epoch 10/11\n",
      "30/30 [==============================] - 0s 6ms/step - loss: 0.0051 - accuracy: 1.0000\n",
      "Epoch 11/11\n",
      "30/30 [==============================] - 0s 5ms/step - loss: 0.0014 - accuracy: 1.0000\n"
     ]
    },
    {
     "data": {
      "text/plain": [
       "<keras.callbacks.History at 0x28a027d6490>"
      ]
     },
     "execution_count": 5,
     "metadata": {},
     "output_type": "execute_result"
    }
   ],
   "source": [
    "model = keras.Sequential([\n",
    "    \n",
    "    keras.layers.Dense(19,input_shape=(20,),activation='relu'),\n",
    "    keras.layers.Dense(300,activation='relu'),\n",
    "    keras.layers.Dense(250,activation='relu'),\n",
    "    keras.layers.Dense(200,activation='relu'),\n",
    "    keras.layers.Dense(150,activation='relu'),\n",
    "    keras.layers.Dense(100,activation='relu'),\n",
    "    keras.layers.Dense(50,activation='relu'),\n",
    "    keras.layers.Dense(45,activation='relu'),\n",
    "    keras.layers.Dense(30,activation='relu'),\n",
    "    keras.layers.Dense(20,activation='relu'),\n",
    "    keras.layers.Dense(15,activation='relu'),\n",
    "    keras.layers.Dense(6,activation='sigmoid')\n",
    "   \n",
    "    \n",
    "])\n",
    "model.compile(\n",
    "    optimizer='adam',\n",
    "    loss='sparse_categorical_crossentropy',\n",
    "    metrics=['accuracy']\n",
    ")\n",
    "model.fit(X_train_flattened,y_train,epochs=11)"
   ]
  },
  {
   "cell_type": "code",
   "execution_count": 7,
   "metadata": {},
   "outputs": [
    {
     "name": "stdout",
     "output_type": "stream",
     "text": [
      "8/8 [==============================] - 0s 2ms/step\n"
     ]
    },
    {
     "data": {
      "text/plain": [
       "Text(95.72222222222221, 0.5, 'Actual')"
      ]
     },
     "execution_count": 7,
     "metadata": {},
     "output_type": "execute_result"
    },
    {
     "data": {
      "image/png": "[encoded data removed]",
      "text/plain": [
       "<Figure size 1000x1000 with 2 Axes>"
      ]
     },
     "metadata": {},
     "output_type": "display_data"
    }
   ],
   "source": [
    "y_predict = model.predict(X_test_flattened)\n",
    "y_predict_labels = [np.argmax(i) for i in y_predict]\n",
    "cm = tf.math.confusion_matrix(labels=y_test,predictions=y_predict_labels)\n",
    "import seaborn as sns\n",
    "import matplotlib.pyplot as plt\n",
    "plt.figure(figsize=(10,10))\n",
    "sns.heatmap(cm,annot=True,fmt='d')\n",
    "plt.xlabel(\"Predicted\")\n",
    "plt.ylabel(\"Actual\")"
   ]
  },
  {
   "cell_type": "code",
   "execution_count": 12,
   "metadata": {},
   "outputs": [
    {
     "name": "stdout",
     "output_type": "stream",
     "text": [
      "Model saved as JSON file: {model_path}\n"
     ]
    }
   ],
   "source": [
    "model_json = model.to_json()\n",
    "\n",
    "# Save the model JSON to a file\n",
    "model_path = 'D:\\prakriti-analysis\\ml\\model.json'\n",
    "with open(model_path, 'w') as json_file:\n",
    "    json_file.write(model_json)\n",
    "\n",
    "print(\"Model saved as JSON file: {model_path}\")\n"
   ]
  }
 ],
 "metadata": {
  "kernelspec": {
   "display_name": "Python 3",
   "language": "python",
   "name": "python3"
  },
  "language_info": {
   "codemirror_mode": {
    "name": "ipython",
    "version": 3
   },
   "file_extension": ".py",
   "mimetype": "text/x-python",
   "name": "python",
   "nbconvert_exporter": "python",
   "pygments_lexer": "ipython3",
   "version": "3.11.4"
  },
  "orig_nbformat": 4
 },
 "nbformat": 4,
 "nbformat_minor": 2
}
